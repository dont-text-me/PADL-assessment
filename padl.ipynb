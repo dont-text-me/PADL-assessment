{
 "cells": [
  {
   "cell_type": "markdown",
   "id": "1bca72cd75e9000b",
   "metadata": {
    "collapsed": false
   },
   "source": [
    "# Question 1"
   ]
  },
  {
   "cell_type": "markdown",
   "id": "d17a6a9f130493d4",
   "metadata": {
    "collapsed": false
   },
   "source": [
    "Import packages, load data and instantiate scaler and PCA"
   ]
  },
  {
   "cell_type": "code",
   "execution_count": 189,
   "id": "initial_id",
   "metadata": {
    "ExecuteTime": {
     "end_time": "2024-03-29T21:18:24.370765Z",
     "start_time": "2024-03-29T21:18:24.367500Z"
    },
    "collapsed": true
   },
   "outputs": [],
   "source": [
    "import numpy as np\n",
    "import pandas as pd\n",
    "from sklearn.preprocessing import MinMaxScaler, StandardScaler\n",
    "from sklearn.decomposition import PCA\n",
    "\n",
    "q1_data = pd.read_csv(\"PADL-Q1.csv\")\n",
    "scaler = StandardScaler()\n",
    "pca = PCA(n_components=5)"
   ]
  },
  {
   "cell_type": "markdown",
   "id": "ecb58f8e1448bb1",
   "metadata": {
    "collapsed": false
   },
   "source": [
    "Apply PCA to scaled data"
   ]
  },
  {
   "cell_type": "code",
   "execution_count": 190,
   "id": "1692ce2490715b89",
   "metadata": {
    "ExecuteTime": {
     "end_time": "2024-03-29T21:18:24.401850Z",
     "start_time": "2024-03-29T21:18:24.398720Z"
    },
    "collapsed": false
   },
   "outputs": [],
   "source": [
    "q1_data_scaled = scaler.fit_transform(q1_data)\n",
    "q1_pcs = pca.fit_transform(q1_data_scaled)"
   ]
  },
  {
   "cell_type": "markdown",
   "id": "dc34a2f32eb0d2bc",
   "metadata": {
    "collapsed": false
   },
   "source": [
    "Check the minimum number of dimensions required to minimize loss of information"
   ]
  },
  {
   "cell_type": "code",
   "execution_count": 191,
   "id": "4c85ffb140401c1b",
   "metadata": {
    "ExecuteTime": {
     "end_time": "2024-03-29T21:18:24.404935Z",
     "start_time": "2024-03-29T21:18:24.402632Z"
    },
    "collapsed": false
   },
   "outputs": [
    {
     "name": "stdout",
     "output_type": "stream",
     "text": [
      "The first 1 principal components correspond to 40.32% of the total variance\n",
      "The first 2 principal components correspond to 70.24% of the total variance\n",
      "The first 3 principal components correspond to 81.51% of the total variance\n",
      "The first 4 principal components correspond to 91.95% of the total variance\n"
     ]
    }
   ],
   "source": [
    "total_variance = sum(q1_pcs.var(axis=0))\n",
    "for n_comp in range(1, q1_pcs.shape[1]):\n",
    "    first_n_comp_variance = (\n",
    "        sum(q1_pcs[:, 0:n_comp].var(axis=0)) / total_variance\n",
    "    ) * 100\n",
    "    print(\n",
    "        f\"The first {n_comp} principal components correspond to {first_n_comp_variance.round(2)}% of the total variance\"\n",
    "    )"
   ]
  },
  {
   "cell_type": "markdown",
   "id": "fdc5298d5029e687",
   "metadata": {
    "collapsed": false
   },
   "source": [
    "Reducing the number of dimensions to four allows for a relatively small loss of information - the 4 components correspond to around 92 percent of the total variance."
   ]
  },
  {
   "cell_type": "code",
   "execution_count": 192,
   "id": "dc3f86eb7f418137",
   "metadata": {
    "ExecuteTime": {
     "end_time": "2024-03-29T21:18:24.410259Z",
     "start_time": "2024-03-29T21:18:24.407508Z"
    },
    "collapsed": false
   },
   "outputs": [
    {
     "data": {
      "text/plain": "array([[-0.55608777,  0.16605693, -0.55968369,  0.2074285 , -0.55400277],\n       [-0.07616798, -0.68491569, -0.21946827, -0.67209755, -0.15876868],\n       [-0.58290436,  0.2674771 , -0.13665832, -0.32308723,  0.68236182],\n       [ 0.56104011,  0.48673801, -0.55197578, -0.37899935, -0.00152482]])"
     },
     "execution_count": 192,
     "metadata": {},
     "output_type": "execute_result"
    }
   ],
   "source": [
    "pca_min_dims = PCA(n_components=4)\n",
    "q1_pcs_min_dimensions = pca_min_dims.fit_transform(q1_data_scaled)\n",
    "components = pca_min_dims.components_\n",
    "components"
   ]
  },
  {
   "cell_type": "markdown",
   "id": "866fa42ecedf18a2",
   "metadata": {
    "collapsed": false
   },
   "source": [
    "# Question 2"
   ]
  },
  {
   "cell_type": "code",
   "execution_count": 292,
   "id": "3dfd51e650323953",
   "metadata": {
    "ExecuteTime": {
     "end_time": "2024-03-29T21:56:33.896706Z",
     "start_time": "2024-03-29T21:56:33.893119Z"
    },
    "collapsed": false
   },
   "outputs": [],
   "source": [
    "import pandas as pd\n",
    "\n",
    "q2_data = pd.read_csv(\"PADL-Q2-train.csv\")\n",
    "q2_data.head()\n",
    "q2_data_X, q2_data_y = q2_data.drop(columns=[\"out\", \"y\"]), q2_data[\"out\"]"
   ]
  },
  {
   "cell_type": "code",
   "execution_count": 293,
   "id": "7e6d10c14c66bf3f",
   "metadata": {
    "ExecuteTime": {
     "end_time": "2024-03-29T21:56:35.680957Z",
     "start_time": "2024-03-29T21:56:35.675990Z"
    },
    "collapsed": false
   },
   "outputs": [
    {
     "data": {
      "text/plain": "((72, 3), (72,), (8, 3), (8,))"
     },
     "execution_count": 293,
     "metadata": {},
     "output_type": "execute_result"
    }
   ],
   "source": [
    "from sklearn.model_selection import train_test_split\n",
    "\n",
    "X_train, X_test, y_train, y_test = train_test_split(\n",
    "    q2_data_X,\n",
    "    q2_data_y,\n",
    "    train_size=0.9,  # There is more unknown data to test on so we can use more for training\n",
    "    random_state=303,\n",
    ")\n",
    "\n",
    "X_train.shape, y_train.shape, X_test.shape, y_test.shape"
   ]
  },
  {
   "cell_type": "code",
   "execution_count": 294,
   "id": "b7fb8309760575a1",
   "metadata": {
    "ExecuteTime": {
     "end_time": "2024-03-29T21:56:38.369093Z",
     "start_time": "2024-03-29T21:56:38.365066Z"
    },
    "collapsed": false
   },
   "outputs": [
    {
     "data": {
      "text/plain": "array([-0.3598524 , -0.45770557,  0.42611551])"
     },
     "execution_count": 294,
     "metadata": {},
     "output_type": "execute_result"
    }
   ],
   "source": [
    "from sklearn.feature_selection import r_regression\n",
    "\n",
    "r_regression(X_train, y_train)"
   ]
  },
  {
   "cell_type": "code",
   "execution_count": 295,
   "id": "bbf787a51740d1a9",
   "metadata": {
    "ExecuteTime": {
     "end_time": "2024-03-29T21:56:42.851714Z",
     "start_time": "2024-03-29T21:56:40.744058Z"
    },
    "collapsed": false
   },
   "outputs": [
    {
     "name": "stdout",
     "output_type": "stream",
     "text": [
      "-0.7219295695540431\n",
      "-0.7228610084406963\n",
      "-0.03177341702877423\n",
      "-0.840326660594799\n",
      "-0.843274626707684\n",
      "-0.8533318977650464\n",
      "-0.7934615978124451\n",
      "-0.8496961313325442\n",
      "-0.7219295695540389\n",
      "-0.8401907191921834\n",
      "-0.03264473295358683\n",
      "-0.8962040152533735\n",
      "-0.032861269383324565\n",
      "-0.032861269383324565\n",
      "-0.032861269383324565\n",
      "-0.045034145738546805\n",
      "-0.8551904141849893\n",
      "-0.85519041418499\n",
      "-0.8192690482479554\n",
      "-0.855190414185039\n",
      "-0.6921123475852329\n",
      "-0.735474970630716\n",
      "-0.035136685311303095\n",
      "-0.8404723621598278\n",
      "-0.8242594022711378\n",
      "-0.800148477812163\n",
      "-0.3374869823606639\n",
      "-0.8700464503154051\n",
      "-0.6921123475852116\n",
      "-0.8416780300253368\n",
      "-0.03285485053067472\n",
      "-0.8975423887699652\n",
      "-0.07766392758136087\n",
      "-0.07766392758136087\n",
      "-0.07766392758136087\n",
      "-0.10172246692993125\n",
      "-0.8551904141849915\n",
      "-0.8551904141849906\n",
      "-0.8192690482478997\n",
      "-0.8551904141850384\n",
      "-1.371694934129128\n",
      "-1.7252338922542645\n",
      "-0.031988798140858865\n",
      "-2.192721063852733\n",
      "-2.056191512658155\n",
      "-1.9834375022845974\n",
      "-0.5095786380132798\n",
      "-0.6366096744245913\n",
      "-0.7652026513562591\n",
      "-2.1554357826926362\n",
      "-0.032447249244835774\n",
      "-1.7302966074986186\n",
      "-0.032861269383324565\n",
      "-0.032861269383324565\n",
      "-0.032861269383324565\n",
      "0.008010304931426182\n",
      "-2.2156282341084657\n",
      "-2.2156282341084674\n",
      "-0.1340679155427298\n",
      "-2.2156282341088347\n",
      "-1.3351870599073559\n",
      "-1.6626650889447077\n",
      "-0.031986175418579066\n",
      "-2.191296832521557\n",
      "-2.089740911309274\n",
      "-1.9915898397160476\n",
      "-0.6272847111614583\n",
      "-0.8211484848388393\n",
      "-0.7461279335161957\n",
      "-2.1403203588532893\n",
      "-0.032540420264228764\n",
      "-1.7337628427323426\n",
      "-0.07766392758136087\n",
      "-0.07766392758136087\n",
      "-0.07766392758136087\n",
      "-0.16680534386581192\n",
      "-2.215628234108471\n",
      "-2.2156282341084674\n",
      "-0.2700795664641833\n",
      "-2.2156282341088738\n",
      "-1.3478852771520344\n",
      "-0.12134779411515884\n",
      "-0.03283819464254911\n",
      "-0.1066402897276002\n",
      "-1.6731350921635189\n",
      "-0.3815071297010526\n",
      "-0.557993085481227\n",
      "-0.42530298383069476\n",
      "-0.8150501531696932\n",
      "-0.00208815072328683\n",
      "-0.03227014135706563\n",
      "0.1449470031685316\n",
      "-0.032861269383324565\n",
      "-0.032861269383324565\n",
      "-0.032861269383324565\n",
      "-0.37508936317553143\n",
      "0.015900307402524794\n",
      "0.015900307402527014\n",
      "-0.19293496929791343\n",
      "0.01590030740171433\n",
      "-1.3003688444412487\n",
      "-0.08475722430159993\n",
      "-0.03281501427490929\n",
      "-0.10609380979047045\n",
      "-1.6599406351646855\n",
      "-0.2037660689022498\n",
      "-0.6300903222930234\n",
      "-0.5428788197672108\n",
      "-0.7873254839647059\n",
      "0.002784136816724736\n",
      "-0.03229801829207912\n",
      "0.14164787731253248\n",
      "-0.07766392758136087\n",
      "-0.07766392758136087\n",
      "-0.07766392758136087\n",
      "-0.5224090404648147\n",
      "0.015900307402530567\n",
      "0.015900307402526015\n",
      "-0.3177571233965839\n",
      "0.015900307403505898\n",
      "-1.1269045724611537\n",
      "0.28036056295542533\n",
      "-0.03407778781612736\n",
      "-2.6773824024305393\n",
      "-1.4628647703916031\n",
      "-1.1517495605816475\n",
      "-0.6121494345941048\n",
      "-0.4001817838052524\n",
      "-0.8298830951649434\n",
      "-1.1179865421742532\n",
      "-0.03210594298297664\n",
      "0.231298938178918\n",
      "-0.032861269383324565\n",
      "-0.032861269383324565\n",
      "-0.032861269383324565\n",
      "-1.22631724740944\n",
      "-1.2661385959297107\n",
      "-1.9192660504464039\n",
      "0.2252353612811583\n",
      "-2.0329320871253014\n",
      "-1.0845204103339738\n",
      "0.2612988033874586\n",
      "-0.033987979665624835\n",
      "0.1284366816260708\n",
      "-1.434064209811869\n",
      "-1.050333822149876\n",
      "-0.631148319097466\n",
      "-0.6658567978292862\n",
      "-0.7886193899366882\n",
      "-1.107909690002698\n",
      "-0.032099963482547844\n",
      "0.22713368047346638\n",
      "-0.07766392758136087\n",
      "-0.07766392758136087\n",
      "-0.07766392758136087\n",
      "-1.1530240178946198\n",
      "-2.0329320871756495\n",
      "-2.030474150258952\n",
      "-0.06448145429778074\n",
      "-2.03293212580153\n",
      "-0.8273569834784322\n",
      "-2.0810102095597487\n",
      "-0.03562347500662999\n",
      "-2658285.633447436\n",
      "-1.3097592176451998\n",
      "-0.2284521386387346\n",
      "-0.6649434391960671\n",
      "-0.018874419437445722\n",
      "-0.8273569834784771\n",
      "-11.842836117066636\n",
      "-0.031949201608939326\n",
      "-6.69689278168482\n",
      "-0.032861269383324565\n",
      "-0.032861269383324565\n",
      "-0.032861269383324565\n",
      "0.3416312558578448\n",
      "-22.20022005589093\n",
      "-18.308953799028295\n",
      "-16.75290743323344\n",
      "-19.64289486856491\n",
      "-0.7791655769387222\n",
      "-2.1828941233774204\n",
      "-0.03538796565658009\n",
      "-5560011.027486143\n"
     ]
    },
    {
     "name": "stderr",
     "output_type": "stream",
     "text": [
      "/Users/ivanbar/.pyenv/versions/3.12.2/lib/python3.12/site-packages/sklearn/linear_model/_ridge.py:204: LinAlgWarning: Ill-conditioned matrix (rcond=1.25798e-18): result may not be accurate.\n",
      "  return linalg.solve(A, Xy, assume_a=\"pos\", overwrite_a=True).T\n"
     ]
    },
    {
     "name": "stdout",
     "output_type": "stream",
     "text": [
      "-1.2351252243152118\n",
      "0.07271619958768549\n",
      "-0.6329358585769147\n",
      "-0.1895554689558412\n",
      "-0.779165576938788\n",
      "-11.684507275546641\n",
      "-0.03193434169335019\n",
      "-6.594621644975882\n",
      "-0.07766392758136087\n",
      "-0.07766392758136087\n",
      "-0.07766392758136087\n",
      "0.07143737243486514\n",
      "-17.486507596645993\n",
      "-17.43745358356303\n",
      "-7.148456957719848\n",
      "-17.474258984606518\n"
     ]
    },
    {
     "name": "stderr",
     "output_type": "stream",
     "text": [
      "/Users/ivanbar/.pyenv/versions/3.12.2/lib/python3.12/site-packages/sklearn/linear_model/_ridge.py:204: LinAlgWarning: Ill-conditioned matrix (rcond=1.19386e-18): result may not be accurate.\n",
      "  return linalg.solve(A, Xy, assume_a=\"pos\", overwrite_a=True).T\n"
     ]
    }
   ],
   "source": [
    "from sklearn.linear_model import RidgeCV, LassoCV, Ridge, Lasso, LinearRegression\n",
    "from sklearn.preprocessing import PolynomialFeatures, Normalizer\n",
    "from sklearn.pipeline import make_pipeline\n",
    "from sklearn.metrics import r2_score\n",
    "from sklearn.exceptions import ConvergenceWarning\n",
    "import warnings\n",
    "\n",
    "warnings.simplefilter(\"ignore\", category=ConvergenceWarning)\n",
    "num_poly_features = [1, 2, 3, 4, 5]\n",
    "regularisations = [\n",
    "    RidgeCV(fit_intercept=True),\n",
    "    LassoCV(fit_intercept=True),\n",
    "    Ridge(fit_intercept=True),\n",
    "    Lasso(fit_intercept=True),\n",
    "    LinearRegression(fit_intercept=True),\n",
    "    RidgeCV(fit_intercept=False),\n",
    "    LassoCV(fit_intercept=False),\n",
    "    Ridge(fit_intercept=False),\n",
    "    Lasso(fit_intercept=False),\n",
    "    LinearRegression(fit_intercept=False),\n",
    "]\n",
    "preprocessing = [MinMaxScaler(), StandardScaler(), Normalizer(), PCA(n_components=3)]\n",
    "best_r2 = -100000\n",
    "best_model = None\n",
    "for degree in num_poly_features:\n",
    "    for reg in regularisations:\n",
    "        for proc in preprocessing:\n",
    "            model = make_pipeline(proc, PolynomialFeatures(degree), reg)\n",
    "            model.fit(X_train, y_train)\n",
    "            current_r2 = r2_score(y_test, model.predict(X_test))\n",
    "            if current_r2 > best_r2:\n",
    "                best_r2 = current_r2\n",
    "                best_model = model\n",
    "            print(r2_score(y_test, model.predict(X_test)))"
   ]
  },
  {
   "cell_type": "code",
   "execution_count": 297,
   "id": "e084ef165c90ee7b",
   "metadata": {
    "ExecuteTime": {
     "end_time": "2024-03-29T21:56:59.215793Z",
     "start_time": "2024-03-29T21:56:59.126388Z"
    },
    "collapsed": false
   },
   "outputs": [
    {
     "name": "stdout",
     "output_type": "stream",
     "text": [
      "0.3416312558578448\n"
     ]
    },
    {
     "data": {
      "text/html": "<style>#sk-container-id-15 {\n  /* Definition of color scheme common for light and dark mode */\n  --sklearn-color-text: black;\n  --sklearn-color-line: gray;\n  /* Definition of color scheme for unfitted estimators */\n  --sklearn-color-unfitted-level-0: #fff5e6;\n  --sklearn-color-unfitted-level-1: #f6e4d2;\n  --sklearn-color-unfitted-level-2: #ffe0b3;\n  --sklearn-color-unfitted-level-3: chocolate;\n  /* Definition of color scheme for fitted estimators */\n  --sklearn-color-fitted-level-0: #f0f8ff;\n  --sklearn-color-fitted-level-1: #d4ebff;\n  --sklearn-color-fitted-level-2: #b3dbfd;\n  --sklearn-color-fitted-level-3: cornflowerblue;\n\n  /* Specific color for light theme */\n  --sklearn-color-text-on-default-background: var(--sg-text-color, var(--theme-code-foreground, var(--jp-content-font-color1, black)));\n  --sklearn-color-background: var(--sg-background-color, var(--theme-background, var(--jp-layout-color0, white)));\n  --sklearn-color-border-box: var(--sg-text-color, var(--theme-code-foreground, var(--jp-content-font-color1, black)));\n  --sklearn-color-icon: #696969;\n\n  @media (prefers-color-scheme: dark) {\n    /* Redefinition of color scheme for dark theme */\n    --sklearn-color-text-on-default-background: var(--sg-text-color, var(--theme-code-foreground, var(--jp-content-font-color1, white)));\n    --sklearn-color-background: var(--sg-background-color, var(--theme-background, var(--jp-layout-color0, #111)));\n    --sklearn-color-border-box: var(--sg-text-color, var(--theme-code-foreground, var(--jp-content-font-color1, white)));\n    --sklearn-color-icon: #878787;\n  }\n}\n\n#sk-container-id-15 {\n  color: var(--sklearn-color-text);\n}\n\n#sk-container-id-15 pre {\n  padding: 0;\n}\n\n#sk-container-id-15 input.sk-hidden--visually {\n  border: 0;\n  clip: rect(1px 1px 1px 1px);\n  clip: rect(1px, 1px, 1px, 1px);\n  height: 1px;\n  margin: -1px;\n  overflow: hidden;\n  padding: 0;\n  position: absolute;\n  width: 1px;\n}\n\n#sk-container-id-15 div.sk-dashed-wrapped {\n  border: 1px dashed var(--sklearn-color-line);\n  margin: 0 0.4em 0.5em 0.4em;\n  box-sizing: border-box;\n  padding-bottom: 0.4em;\n  background-color: var(--sklearn-color-background);\n}\n\n#sk-container-id-15 div.sk-container {\n  /* jupyter's `normalize.less` sets `[hidden] { display: none; }`\n     but bootstrap.min.css set `[hidden] { display: none !important; }`\n     so we also need the `!important` here to be able to override the\n     default hidden behavior on the sphinx rendered scikit-learn.org.\n     See: https://github.com/scikit-learn/scikit-learn/issues/21755 */\n  display: inline-block !important;\n  position: relative;\n}\n\n#sk-container-id-15 div.sk-text-repr-fallback {\n  display: none;\n}\n\ndiv.sk-parallel-item,\ndiv.sk-serial,\ndiv.sk-item {\n  /* draw centered vertical line to link estimators */\n  background-image: linear-gradient(var(--sklearn-color-text-on-default-background), var(--sklearn-color-text-on-default-background));\n  background-size: 2px 100%;\n  background-repeat: no-repeat;\n  background-position: center center;\n}\n\n/* Parallel-specific style estimator block */\n\n#sk-container-id-15 div.sk-parallel-item::after {\n  content: \"\";\n  width: 100%;\n  border-bottom: 2px solid var(--sklearn-color-text-on-default-background);\n  flex-grow: 1;\n}\n\n#sk-container-id-15 div.sk-parallel {\n  display: flex;\n  align-items: stretch;\n  justify-content: center;\n  background-color: var(--sklearn-color-background);\n  position: relative;\n}\n\n#sk-container-id-15 div.sk-parallel-item {\n  display: flex;\n  flex-direction: column;\n}\n\n#sk-container-id-15 div.sk-parallel-item:first-child::after {\n  align-self: flex-end;\n  width: 50%;\n}\n\n#sk-container-id-15 div.sk-parallel-item:last-child::after {\n  align-self: flex-start;\n  width: 50%;\n}\n\n#sk-container-id-15 div.sk-parallel-item:only-child::after {\n  width: 0;\n}\n\n/* Serial-specific style estimator block */\n\n#sk-container-id-15 div.sk-serial {\n  display: flex;\n  flex-direction: column;\n  align-items: center;\n  background-color: var(--sklearn-color-background);\n  padding-right: 1em;\n  padding-left: 1em;\n}\n\n\n/* Toggleable style: style used for estimator/Pipeline/ColumnTransformer box that is\nclickable and can be expanded/collapsed.\n- Pipeline and ColumnTransformer use this feature and define the default style\n- Estimators will overwrite some part of the style using the `sk-estimator` class\n*/\n\n/* Pipeline and ColumnTransformer style (default) */\n\n#sk-container-id-15 div.sk-toggleable {\n  /* Default theme specific background. It is overwritten whether we have a\n  specific estimator or a Pipeline/ColumnTransformer */\n  background-color: var(--sklearn-color-background);\n}\n\n/* Toggleable label */\n#sk-container-id-15 label.sk-toggleable__label {\n  cursor: pointer;\n  display: block;\n  width: 100%;\n  margin-bottom: 0;\n  padding: 0.5em;\n  box-sizing: border-box;\n  text-align: center;\n}\n\n#sk-container-id-15 label.sk-toggleable__label-arrow:before {\n  /* Arrow on the left of the label */\n  content: \"▸\";\n  float: left;\n  margin-right: 0.25em;\n  color: var(--sklearn-color-icon);\n}\n\n#sk-container-id-15 label.sk-toggleable__label-arrow:hover:before {\n  color: var(--sklearn-color-text);\n}\n\n/* Toggleable content - dropdown */\n\n#sk-container-id-15 div.sk-toggleable__content {\n  max-height: 0;\n  max-width: 0;\n  overflow: hidden;\n  text-align: left;\n  /* unfitted */\n  background-color: var(--sklearn-color-unfitted-level-0);\n}\n\n#sk-container-id-15 div.sk-toggleable__content.fitted {\n  /* fitted */\n  background-color: var(--sklearn-color-fitted-level-0);\n}\n\n#sk-container-id-15 div.sk-toggleable__content pre {\n  margin: 0.2em;\n  border-radius: 0.25em;\n  color: var(--sklearn-color-text);\n  /* unfitted */\n  background-color: var(--sklearn-color-unfitted-level-0);\n}\n\n#sk-container-id-15 div.sk-toggleable__content.fitted pre {\n  /* unfitted */\n  background-color: var(--sklearn-color-fitted-level-0);\n}\n\n#sk-container-id-15 input.sk-toggleable__control:checked~div.sk-toggleable__content {\n  /* Expand drop-down */\n  max-height: 200px;\n  max-width: 100%;\n  overflow: auto;\n}\n\n#sk-container-id-15 input.sk-toggleable__control:checked~label.sk-toggleable__label-arrow:before {\n  content: \"▾\";\n}\n\n/* Pipeline/ColumnTransformer-specific style */\n\n#sk-container-id-15 div.sk-label input.sk-toggleable__control:checked~label.sk-toggleable__label {\n  color: var(--sklearn-color-text);\n  background-color: var(--sklearn-color-unfitted-level-2);\n}\n\n#sk-container-id-15 div.sk-label.fitted input.sk-toggleable__control:checked~label.sk-toggleable__label {\n  background-color: var(--sklearn-color-fitted-level-2);\n}\n\n/* Estimator-specific style */\n\n/* Colorize estimator box */\n#sk-container-id-15 div.sk-estimator input.sk-toggleable__control:checked~label.sk-toggleable__label {\n  /* unfitted */\n  background-color: var(--sklearn-color-unfitted-level-2);\n}\n\n#sk-container-id-15 div.sk-estimator.fitted input.sk-toggleable__control:checked~label.sk-toggleable__label {\n  /* fitted */\n  background-color: var(--sklearn-color-fitted-level-2);\n}\n\n#sk-container-id-15 div.sk-label label.sk-toggleable__label,\n#sk-container-id-15 div.sk-label label {\n  /* The background is the default theme color */\n  color: var(--sklearn-color-text-on-default-background);\n}\n\n/* On hover, darken the color of the background */\n#sk-container-id-15 div.sk-label:hover label.sk-toggleable__label {\n  color: var(--sklearn-color-text);\n  background-color: var(--sklearn-color-unfitted-level-2);\n}\n\n/* Label box, darken color on hover, fitted */\n#sk-container-id-15 div.sk-label.fitted:hover label.sk-toggleable__label.fitted {\n  color: var(--sklearn-color-text);\n  background-color: var(--sklearn-color-fitted-level-2);\n}\n\n/* Estimator label */\n\n#sk-container-id-15 div.sk-label label {\n  font-family: monospace;\n  font-weight: bold;\n  display: inline-block;\n  line-height: 1.2em;\n}\n\n#sk-container-id-15 div.sk-label-container {\n  text-align: center;\n}\n\n/* Estimator-specific */\n#sk-container-id-15 div.sk-estimator {\n  font-family: monospace;\n  border: 1px dotted var(--sklearn-color-border-box);\n  border-radius: 0.25em;\n  box-sizing: border-box;\n  margin-bottom: 0.5em;\n  /* unfitted */\n  background-color: var(--sklearn-color-unfitted-level-0);\n}\n\n#sk-container-id-15 div.sk-estimator.fitted {\n  /* fitted */\n  background-color: var(--sklearn-color-fitted-level-0);\n}\n\n/* on hover */\n#sk-container-id-15 div.sk-estimator:hover {\n  /* unfitted */\n  background-color: var(--sklearn-color-unfitted-level-2);\n}\n\n#sk-container-id-15 div.sk-estimator.fitted:hover {\n  /* fitted */\n  background-color: var(--sklearn-color-fitted-level-2);\n}\n\n/* Specification for estimator info (e.g. \"i\" and \"?\") */\n\n/* Common style for \"i\" and \"?\" */\n\n.sk-estimator-doc-link,\na:link.sk-estimator-doc-link,\na:visited.sk-estimator-doc-link {\n  float: right;\n  font-size: smaller;\n  line-height: 1em;\n  font-family: monospace;\n  background-color: var(--sklearn-color-background);\n  border-radius: 1em;\n  height: 1em;\n  width: 1em;\n  text-decoration: none !important;\n  margin-left: 1ex;\n  /* unfitted */\n  border: var(--sklearn-color-unfitted-level-1) 1pt solid;\n  color: var(--sklearn-color-unfitted-level-1);\n}\n\n.sk-estimator-doc-link.fitted,\na:link.sk-estimator-doc-link.fitted,\na:visited.sk-estimator-doc-link.fitted {\n  /* fitted */\n  border: var(--sklearn-color-fitted-level-1) 1pt solid;\n  color: var(--sklearn-color-fitted-level-1);\n}\n\n/* On hover */\ndiv.sk-estimator:hover .sk-estimator-doc-link:hover,\n.sk-estimator-doc-link:hover,\ndiv.sk-label-container:hover .sk-estimator-doc-link:hover,\n.sk-estimator-doc-link:hover {\n  /* unfitted */\n  background-color: var(--sklearn-color-unfitted-level-3);\n  color: var(--sklearn-color-background);\n  text-decoration: none;\n}\n\ndiv.sk-estimator.fitted:hover .sk-estimator-doc-link.fitted:hover,\n.sk-estimator-doc-link.fitted:hover,\ndiv.sk-label-container:hover .sk-estimator-doc-link.fitted:hover,\n.sk-estimator-doc-link.fitted:hover {\n  /* fitted */\n  background-color: var(--sklearn-color-fitted-level-3);\n  color: var(--sklearn-color-background);\n  text-decoration: none;\n}\n\n/* Span, style for the box shown on hovering the info icon */\n.sk-estimator-doc-link span {\n  display: none;\n  z-index: 9999;\n  position: relative;\n  font-weight: normal;\n  right: .2ex;\n  padding: .5ex;\n  margin: .5ex;\n  width: min-content;\n  min-width: 20ex;\n  max-width: 50ex;\n  color: var(--sklearn-color-text);\n  box-shadow: 2pt 2pt 4pt #999;\n  /* unfitted */\n  background: var(--sklearn-color-unfitted-level-0);\n  border: .5pt solid var(--sklearn-color-unfitted-level-3);\n}\n\n.sk-estimator-doc-link.fitted span {\n  /* fitted */\n  background: var(--sklearn-color-fitted-level-0);\n  border: var(--sklearn-color-fitted-level-3);\n}\n\n.sk-estimator-doc-link:hover span {\n  display: block;\n}\n\n/* \"?\"-specific style due to the `<a>` HTML tag */\n\n#sk-container-id-15 a.estimator_doc_link {\n  float: right;\n  font-size: 1rem;\n  line-height: 1em;\n  font-family: monospace;\n  background-color: var(--sklearn-color-background);\n  border-radius: 1rem;\n  height: 1rem;\n  width: 1rem;\n  text-decoration: none;\n  /* unfitted */\n  color: var(--sklearn-color-unfitted-level-1);\n  border: var(--sklearn-color-unfitted-level-1) 1pt solid;\n}\n\n#sk-container-id-15 a.estimator_doc_link.fitted {\n  /* fitted */\n  border: var(--sklearn-color-fitted-level-1) 1pt solid;\n  color: var(--sklearn-color-fitted-level-1);\n}\n\n/* On hover */\n#sk-container-id-15 a.estimator_doc_link:hover {\n  /* unfitted */\n  background-color: var(--sklearn-color-unfitted-level-3);\n  color: var(--sklearn-color-background);\n  text-decoration: none;\n}\n\n#sk-container-id-15 a.estimator_doc_link.fitted:hover {\n  /* fitted */\n  background-color: var(--sklearn-color-fitted-level-3);\n}\n</style><div id=\"sk-container-id-15\" class=\"sk-top-container\"><div class=\"sk-text-repr-fallback\"><pre>Pipeline(steps=[(&#x27;pca&#x27;, PCA(n_components=3)),\n                (&#x27;polynomialfeatures&#x27;, PolynomialFeatures(degree=5)),\n                (&#x27;lasso&#x27;, Lasso())])</pre><b>In a Jupyter environment, please rerun this cell to show the HTML representation or trust the notebook. <br />On GitHub, the HTML representation is unable to render, please try loading this page with nbviewer.org.</b></div><div class=\"sk-container\" hidden><div class=\"sk-item sk-dashed-wrapped\"><div class=\"sk-label-container\"><div class=\"sk-label fitted sk-toggleable\"><input class=\"sk-toggleable__control sk-hidden--visually\" id=\"sk-estimator-id-57\" type=\"checkbox\" ><label for=\"sk-estimator-id-57\" class=\"sk-toggleable__label fitted sk-toggleable__label-arrow fitted\">&nbsp;&nbsp;Pipeline<a class=\"sk-estimator-doc-link fitted\" rel=\"noreferrer\" target=\"_blank\" href=\"https://scikit-learn.org/1.4/modules/generated/sklearn.pipeline.Pipeline.html\">?<span>Documentation for Pipeline</span></a><span class=\"sk-estimator-doc-link fitted\">i<span>Fitted</span></span></label><div class=\"sk-toggleable__content fitted\"><pre>Pipeline(steps=[(&#x27;pca&#x27;, PCA(n_components=3)),\n                (&#x27;polynomialfeatures&#x27;, PolynomialFeatures(degree=5)),\n                (&#x27;lasso&#x27;, Lasso())])</pre></div> </div></div><div class=\"sk-serial\"><div class=\"sk-item\"><div class=\"sk-estimator fitted sk-toggleable\"><input class=\"sk-toggleable__control sk-hidden--visually\" id=\"sk-estimator-id-58\" type=\"checkbox\" ><label for=\"sk-estimator-id-58\" class=\"sk-toggleable__label fitted sk-toggleable__label-arrow fitted\">&nbsp;PCA<a class=\"sk-estimator-doc-link fitted\" rel=\"noreferrer\" target=\"_blank\" href=\"https://scikit-learn.org/1.4/modules/generated/sklearn.decomposition.PCA.html\">?<span>Documentation for PCA</span></a></label><div class=\"sk-toggleable__content fitted\"><pre>PCA(n_components=3)</pre></div> </div></div><div class=\"sk-item\"><div class=\"sk-estimator fitted sk-toggleable\"><input class=\"sk-toggleable__control sk-hidden--visually\" id=\"sk-estimator-id-59\" type=\"checkbox\" ><label for=\"sk-estimator-id-59\" class=\"sk-toggleable__label fitted sk-toggleable__label-arrow fitted\">&nbsp;PolynomialFeatures<a class=\"sk-estimator-doc-link fitted\" rel=\"noreferrer\" target=\"_blank\" href=\"https://scikit-learn.org/1.4/modules/generated/sklearn.preprocessing.PolynomialFeatures.html\">?<span>Documentation for PolynomialFeatures</span></a></label><div class=\"sk-toggleable__content fitted\"><pre>PolynomialFeatures(degree=5)</pre></div> </div></div><div class=\"sk-item\"><div class=\"sk-estimator fitted sk-toggleable\"><input class=\"sk-toggleable__control sk-hidden--visually\" id=\"sk-estimator-id-60\" type=\"checkbox\" ><label for=\"sk-estimator-id-60\" class=\"sk-toggleable__label fitted sk-toggleable__label-arrow fitted\">&nbsp;Lasso<a class=\"sk-estimator-doc-link fitted\" rel=\"noreferrer\" target=\"_blank\" href=\"https://scikit-learn.org/1.4/modules/generated/sklearn.linear_model.Lasso.html\">?<span>Documentation for Lasso</span></a></label><div class=\"sk-toggleable__content fitted\"><pre>Lasso()</pre></div> </div></div></div></div></div></div>",
      "text/plain": "Pipeline(steps=[('pca', PCA(n_components=3)),\n                ('polynomialfeatures', PolynomialFeatures(degree=5)),\n                ('lasso', Lasso())])"
     },
     "execution_count": 297,
     "metadata": {},
     "output_type": "execute_result"
    },
    {
     "data": {
      "image/png": "[encoded data removed]",
      "text/plain": "<Figure size 640x480 with 1 Axes>"
     },
     "metadata": {},
     "output_type": "display_data"
    }
   ],
   "source": [
    "import matplotlib.pyplot as plt\n",
    "\n",
    "print(best_r2)\n",
    "best_model.fit(X_train, y_train)\n",
    "preds = best_model.predict(X_test)\n",
    "plt.scatter(X_test[\"z\"], y_test, marker=\"x\")\n",
    "plt.scatter(X_test[\"z\"], preds)\n",
    "best_model"
   ]
  },
  {
   "cell_type": "markdown",
   "id": "6354e17d97afca41",
   "metadata": {
    "collapsed": false
   },
   "source": [
    "# Question 3"
   ]
  },
  {
   "cell_type": "code",
   "execution_count": 198,
   "id": "6fb14510a30d1cf8",
   "metadata": {
    "ExecuteTime": {
     "end_time": "2024-03-29T21:18:27.805044Z",
     "start_time": "2024-03-29T21:18:27.803135Z"
    },
    "collapsed": false
   },
   "outputs": [],
   "source": [
    "L = [\"gold\", \"diamond\", \"robbery\", \"bank\", \"police\"]"
   ]
  },
  {
   "cell_type": "markdown",
   "id": "4fa78000e245966b",
   "metadata": {
    "collapsed": false
   },
   "source": [
    "Capture all triplets matching the pattern 'X and Y'"
   ]
  },
  {
   "cell_type": "code",
   "execution_count": 199,
   "id": "e7abae44ef800bc",
   "metadata": {
    "ExecuteTime": {
     "end_time": "2024-03-29T21:18:27.808632Z",
     "start_time": "2024-03-29T21:18:27.806193Z"
    },
    "collapsed": false
   },
   "outputs": [
    {
     "name": "stdout",
     "output_type": "stream",
     "text": [
      "['testing and trialling']\n",
      "['X and Y', 'Y and Z']\n",
      "['tight-fitting and sleek']\n",
      "['One And two']\n",
      "['sentence. And so,']\n",
      "['sentence.\\nAnd the']\n",
      "[\"What?! And you're\"]\n"
     ]
    }
   ],
   "source": [
    "import re\n",
    "\n",
    "pattern = re.compile(\n",
    "    r\"(?=(\"  # We need a lookahead because triplets can overlap (e.g. 'X and Y and Z'), normal regex will not capture the second triplet\n",
    "    r\"(?<![a-zA-Z-])\"  # Negative lookbehind, ensuring that each triplet starts at the beginning of the first word.\n",
    "    r\"[a-zA-z]+\"  # At least one letter (so we don't capture triplets like ', and then')\n",
    "    r\"[\\S]*\"  # Any number of further letters and/or punctuation except whitespace\n",
    "    r\"\\s+\"  # At least one whitespace character (newline, tab, space, etc)\n",
    "    r\"[Aa]nd\"  # 'And' or 'and'\n",
    "    r\"\\s+\"  # At least one whitespace character\n",
    "    r\"[a-zA-z]+\"  # At least one letter\n",
    "    r\"[\\S]*\"  # Any number of further letters and/or punctuation\n",
    "    r\"))\"\n",
    ")\n",
    "print(pattern.findall(\"testing and trialling\"))  # Can capture a single triplet\n",
    "print(pattern.findall(\"X and Y and Z\"))  # Can capture overlapping triplets\n",
    "print(pattern.findall(\"tight-fitting and sleek\"))  # Can capture hyphenated words\n",
    "print(pattern.findall(\"One And two\"))  # Case-insensitive for and\n",
    "print(\n",
    "    pattern.findall(\"This is the end of one sentence. And so, another begins.\")\n",
    ")  # Can capture triplets across sentences\n",
    "print(\n",
    "    pattern.findall(\n",
    "        \"\"\"\n",
    "This is the end of one sentence.\n",
    "And the other is on a new line.\n",
    "\"\"\"\n",
    "    )\n",
    ")  # Can handle line breaks\n",
    "print(\n",
    "    pattern.findall(\"What?! And you're only telling me now?\")\n",
    ")  # Can handle other punctuation"
   ]
  },
  {
   "cell_type": "code",
   "execution_count": 200,
   "id": "55fd351e94a64215",
   "metadata": {
    "ExecuteTime": {
     "end_time": "2024-03-29T21:18:27.871034Z",
     "start_time": "2024-03-29T21:18:27.809385Z"
    },
    "collapsed": false
   },
   "outputs": [],
   "source": [
    "with open(\"sherlock.txt\") as sherlock_file:\n",
    "    sherlock_full_text = (\n",
    "        sherlock_file.read()\n",
    "    )  # full text needed to train the model later\n",
    "    captured_triplets = pattern.findall(sherlock_full_text)\n",
    "captured_triplets = [\n",
    "    re.sub(re.compile(r\"\\s\"), \" \", triplet) for triplet in captured_triplets\n",
    "]  # Replace whitespace (tabs, newlines, etc) characters with spaces"
   ]
  },
  {
   "cell_type": "markdown",
   "id": "34e4338938d0f9ef",
   "metadata": {
    "collapsed": false
   },
   "source": [
    "Create a convenience function to compare the length of the shared suffixes: start at the end of each word and iterate backwards until the first pair of letters does not match"
   ]
  },
  {
   "cell_type": "code",
   "execution_count": 201,
   "id": "a7288c676d10d9a6",
   "metadata": {
    "ExecuteTime": {
     "end_time": "2024-03-29T21:18:27.873906Z",
     "start_time": "2024-03-29T21:18:27.871585Z"
    },
    "collapsed": false
   },
   "outputs": [
    {
     "name": "stdout",
     "output_type": "stream",
     "text": [
      "3\n",
      "6\n",
      "0\n"
     ]
    }
   ],
   "source": [
    "def shared_suffix_length(word1: str, word2: str) -> int:\n",
    "    suffix_length = 0\n",
    "    for l1, l2 in zip(word1[::-1], word2[::-1]):\n",
    "        if l1.lower() == l2.lower():\n",
    "            suffix_length += 1\n",
    "        else:\n",
    "            return suffix_length\n",
    "    return suffix_length\n",
    "\n",
    "\n",
    "print(shared_suffix_length(\"bold\", \"gold\"))\n",
    "print(shared_suffix_length(\"lobster\", \"mobster\"))\n",
    "print(shared_suffix_length(\"apple\", \"potato\"))"
   ]
  },
  {
   "cell_type": "markdown",
   "id": "2d21b6edd8c5a115",
   "metadata": {
    "collapsed": false
   },
   "source": [
    "Find triplets where the last word rhymes with the target word"
   ]
  },
  {
   "cell_type": "code",
   "execution_count": 202,
   "id": "848578c606974827",
   "metadata": {
    "ExecuteTime": {
     "end_time": "2024-03-29T21:18:27.892617Z",
     "start_time": "2024-03-29T21:18:27.874504Z"
    },
    "collapsed": false
   },
   "outputs": [],
   "source": [
    "rhymes = {}\n",
    "for word in L:\n",
    "    rhymes[word] = [\n",
    "        re.sub(\n",
    "            \"[.,-]\", \"\", triplet\n",
    "        ).lower()  # remove any punctuation and convert to lowercase for consistency\n",
    "        for triplet in captured_triplets\n",
    "        if shared_suffix_length(\n",
    "            word,\n",
    "            re.sub(r\"\\s+\", \" \", triplet).split(\" \")[  # Remove any repeating whitespace\n",
    "                2\n",
    "            ],\n",
    "        )\n",
    "        >= 3\n",
    "    ]"
   ]
  },
  {
   "cell_type": "code",
   "execution_count": 203,
   "id": "7869a31c952b63be",
   "metadata": {
    "ExecuteTime": {
     "end_time": "2024-03-29T21:18:27.895306Z",
     "start_time": "2024-03-29T21:18:27.893346Z"
    },
    "collapsed": false
   },
   "outputs": [
    {
     "data": {
      "text/plain": "{'gold': ['away and told', 'rapidly and told', 'indemnify and hold'],\n 'diamond': [],\n 'robbery': ['delicacy and every',\n  'pay and very',\n  'ten and every',\n  'abbots and archery',\n  'police and every',\n  'air and scenery',\n  'long and very',\n  'armchair and cheery',\n  'police and very'],\n 'bank': ['do and frank', 'mercifully and thank'],\n 'police': ['help and advice']}"
     },
     "execution_count": 203,
     "metadata": {},
     "output_type": "execute_result"
    }
   ],
   "source": [
    "rhymes"
   ]
  },
  {
   "cell_type": "markdown",
   "id": "da07551653d04de0",
   "metadata": {
    "collapsed": false
   },
   "source": [
    "Load up a pre-trained word2vec model"
   ]
  },
  {
   "cell_type": "code",
   "execution_count": 204,
   "id": "1837f8d38a2d889b",
   "metadata": {
    "ExecuteTime": {
     "end_time": "2024-03-29T21:19:08.565509Z",
     "start_time": "2024-03-29T21:18:27.895898Z"
    },
    "collapsed": false
   },
   "outputs": [
    {
     "name": "stderr",
     "output_type": "stream",
     "text": [
      "[nltk_data] Downloading package punkt to /Users/ivanbar/nltk_data...\n",
      "[nltk_data]   Package punkt is already up-to-date!\n"
     ]
    },
    {
     "data": {
      "text/plain": "(14730844, 17861220)"
     },
     "execution_count": 204,
     "metadata": {},
     "output_type": "execute_result"
    }
   ],
   "source": [
    "import nltk\n",
    "from gensim import downloader as api\n",
    "from gensim.models import Word2Vec\n",
    "\n",
    "nltk.download(\"punkt\")\n",
    "\n",
    "# Load the glove-wiki-gigaword-100 pre-trained word2vec model\n",
    "model = api.load(\"glove-wiki-gigaword-100\")\n",
    "sherlock_model = Word2Vec(sherlock_full_text, vector_size=100, min_count=1, epochs=30)\n",
    "total_examples = sherlock_model.corpus_count\n",
    "sherlock_model.build_vocab([list(model.key_to_index.keys())], update=True)\n",
    "sherlock_model.wv.vectors_lockf = np.ones(len(sherlock_model.wv))\n",
    "sherlock_model.wv.intersect_word2vec_format(\n",
    "    \"~/gensim-data/glove-wiki-gigaword-100/glove-wiki-gigaword-100.gz\",\n",
    "    binary=False,\n",
    "    lockf=1.0,\n",
    ")\n",
    "sherlock_model.train(sherlock_full_text, total_examples=total_examples, epochs=30)"
   ]
  },
  {
   "cell_type": "markdown",
   "id": "ed25190dd32d6ec2",
   "metadata": {
    "collapsed": false
   },
   "source": [
    "Create a utility function to give a 'similarity score' to a triplet"
   ]
  },
  {
   "cell_type": "code",
   "execution_count": 205,
   "id": "12873047de866a5f",
   "metadata": {
    "ExecuteTime": {
     "end_time": "2024-03-29T21:19:08.569532Z",
     "start_time": "2024-03-29T21:19:08.567801Z"
    },
    "collapsed": false
   },
   "outputs": [],
   "source": [
    "def similarity_score(triplet: str) -> float:\n",
    "    first_word = triplet.split(\" \")[0]\n",
    "    last_word = triplet.split(\" \")[2]\n",
    "    return sherlock_model.wv.similarity(first_word, last_word)"
   ]
  },
  {
   "cell_type": "code",
   "execution_count": 206,
   "id": "26c7747f69265eb6",
   "metadata": {
    "ExecuteTime": {
     "end_time": "2024-03-29T21:19:08.572523Z",
     "start_time": "2024-03-29T21:19:08.570148Z"
    },
    "collapsed": false
   },
   "outputs": [
    {
     "name": "stdout",
     "output_type": "stream",
     "text": [
      "The best 5 cockney rhymes for word 'gold' are: ['away and told', 'rapidly and told', 'indemnify and hold']\n",
      "The best 5 cockney rhymes for word 'diamond' are: []\n",
      "The best 5 cockney rhymes for word 'robbery' are: ['long and very', 'ten and every', 'police and every', 'pay and very', 'police and very']\n",
      "The best 5 cockney rhymes for word 'bank' are: ['do and frank', 'mercifully and thank']\n",
      "The best 5 cockney rhymes for word 'police' are: ['help and advice']\n"
     ]
    }
   ],
   "source": [
    "for word, triplets in rhymes.items():\n",
    "    top_5_similar_triplets = sorted(triplets, key=similarity_score, reverse=True)[0:5]\n",
    "    print(f\"The best 5 cockney rhymes for word '{word}' are: {top_5_similar_triplets}\")"
   ]
  },
  {
   "cell_type": "markdown",
   "id": "d29e3e5dd8495bc6",
   "metadata": {
    "collapsed": false
   },
   "source": [
    "# Question 4"
   ]
  },
  {
   "cell_type": "code",
   "execution_count": 207,
   "id": "c465096b4185fbae",
   "metadata": {
    "ExecuteTime": {
     "end_time": "2024-03-29T21:19:08.574526Z",
     "start_time": "2024-03-29T21:19:08.573015Z"
    },
    "collapsed": false
   },
   "outputs": [],
   "source": [
    "import torch\n",
    "\n",
    "NUMBER_RANGE = np.arange(-1000, 1000, 5)"
   ]
  },
  {
   "cell_type": "code",
   "execution_count": 208,
   "id": "739090ec4b7e225e",
   "metadata": {
    "ExecuteTime": {
     "end_time": "2024-03-29T21:19:08.637587Z",
     "start_time": "2024-03-29T21:19:08.574981Z"
    },
    "collapsed": false
   },
   "outputs": [],
   "source": [
    "X = torch.tensor(\n",
    "    [(a, b) for b in NUMBER_RANGE for a in NUMBER_RANGE], dtype=torch.float32\n",
    ")\n",
    "y = torch.tensor(\n",
    "    [a * b for b in NUMBER_RANGE for a in NUMBER_RANGE], dtype=torch.float32\n",
    ").unsqueeze(1)"
   ]
  },
  {
   "cell_type": "code",
   "execution_count": 209,
   "id": "e0fa4bb4df8eb60a",
   "metadata": {
    "ExecuteTime": {
     "end_time": "2024-03-29T21:19:08.646385Z",
     "start_time": "2024-03-29T21:19:08.638210Z"
    },
    "collapsed": false
   },
   "outputs": [],
   "source": [
    "model = torch.nn.Sequential(\n",
    "    torch.nn.Linear(2, 128),\n",
    "    torch.nn.ReLU(),\n",
    "    torch.nn.Linear(128, 32),\n",
    "    torch.nn.ReLU(),\n",
    "    torch.nn.Linear(32, 1),\n",
    ")\n",
    "optim = torch.optim.Adam(model.parameters(), lr=0.1)\n",
    "scheduler = torch.optim.lr_scheduler.StepLR(\n",
    "    optim, step_size=1000, gamma=0.1\n",
    ")  # Blast through the first 1000 epochs, then go a bit more carefully\n",
    "criterion = torch.nn.L1Loss()\n",
    "epochs = 2000"
   ]
  },
  {
   "cell_type": "code",
   "execution_count": 210,
   "id": "70d0812f83267f9f",
   "metadata": {
    "ExecuteTime": {
     "end_time": "2024-03-29T21:19:11.148872Z",
     "start_time": "2024-03-29T21:19:08.646986Z"
    },
    "collapsed": false
   },
   "outputs": [
    {
     "name": "stdout",
     "output_type": "stream",
     "text": [
      "epoch 0, loss 250003.484375\n",
      "epoch 1, loss 249814.90625\n",
      "epoch 2, loss 248239.515625\n",
      "epoch 3, loss 245588.125\n",
      "epoch 4, loss 240724.921875\n",
      "epoch 5, loss 232975.0\n",
      "epoch 6, loss 221967.15625\n",
      "epoch 7, loss 207359.03125\n",
      "epoch 8, loss 189689.984375\n",
      "epoch 9, loss 172112.40625\n",
      "epoch 10, loss 154039.5\n",
      "epoch 11, loss 129996.953125\n",
      "epoch 12, loss 110192.28125\n",
      "epoch 13, loss 98045.140625\n",
      "epoch 14, loss 86965.5390625\n",
      "epoch 15, loss 78193.46875\n",
      "epoch 16, loss 86156.46875\n",
      "epoch 17, loss 90103.7578125\n",
      "epoch 18, loss 87367.875\n",
      "epoch 19, loss 92381.28125\n",
      "epoch 20, loss 91559.21875\n",
      "epoch 21, loss 88266.1484375\n",
      "epoch 22, loss 81854.5625\n",
      "epoch 23, loss 72800.9453125\n",
      "epoch 24, loss 67614.6484375\n",
      "epoch 25, loss 63841.765625\n",
      "epoch 26, loss 71689.40625\n",
      "epoch 27, loss 69321.875\n",
      "epoch 28, loss 66301.75\n",
      "epoch 29, loss 65140.62109375\n",
      "epoch 30, loss 65631.0234375\n",
      "epoch 31, loss 66255.234375\n",
      "epoch 32, loss 64598.17578125\n",
      "epoch 33, loss 58989.1328125\n",
      "epoch 34, loss 56334.5546875\n",
      "epoch 35, loss 58041.515625\n",
      "epoch 36, loss 57701.33203125\n",
      "epoch 37, loss 56074.0859375\n",
      "epoch 38, loss 56691.640625\n",
      "epoch 39, loss 57477.76171875\n",
      "epoch 40, loss 55219.0859375\n",
      "epoch 41, loss 53089.2890625\n",
      "epoch 42, loss 54268.58203125\n",
      "epoch 43, loss 54577.34375\n",
      "epoch 44, loss 53934.71484375\n",
      "epoch 45, loss 53742.15234375\n",
      "epoch 46, loss 54248.8203125\n",
      "epoch 47, loss 53445.265625\n",
      "epoch 48, loss 52118.3984375\n",
      "epoch 49, loss 52828.30859375\n",
      "epoch 50, loss 52893.65625\n",
      "epoch 51, loss 52569.71484375\n",
      "epoch 52, loss 53020.34375\n",
      "epoch 53, loss 52836.75390625\n",
      "epoch 54, loss 51959.734375\n",
      "epoch 55, loss 52341.01171875\n",
      "epoch 56, loss 52369.703125\n",
      "epoch 57, loss 52087.7578125\n",
      "epoch 58, loss 52475.921875\n",
      "epoch 59, loss 52305.52734375\n",
      "epoch 60, loss 51933.0\n",
      "epoch 61, loss 52006.69921875\n"
     ]
    },
    {
     "ename": "KeyboardInterrupt",
     "evalue": "",
     "output_type": "error",
     "traceback": [
      "\u001b[0;31m---------------------------------------------------------------------------\u001b[0m",
      "\u001b[0;31mKeyboardInterrupt\u001b[0m                         Traceback (most recent call last)",
      "Cell \u001b[0;32mIn[210], line 5\u001b[0m\n\u001b[1;32m      3\u001b[0m loss \u001b[38;5;241m=\u001b[39m criterion(y, y_predict)\n\u001b[1;32m      4\u001b[0m optim\u001b[38;5;241m.\u001b[39mzero_grad()\n\u001b[0;32m----> 5\u001b[0m \u001b[43mloss\u001b[49m\u001b[38;5;241;43m.\u001b[39;49m\u001b[43mbackward\u001b[49m\u001b[43m(\u001b[49m\u001b[43m)\u001b[49m\n\u001b[1;32m      6\u001b[0m optim\u001b[38;5;241m.\u001b[39mstep()\n\u001b[1;32m      7\u001b[0m scheduler\u001b[38;5;241m.\u001b[39mstep()\n",
      "File \u001b[0;32m~/.pyenv/versions/3.12.2/lib/python3.12/site-packages/torch/_tensor.py:522\u001b[0m, in \u001b[0;36mTensor.backward\u001b[0;34m(self, gradient, retain_graph, create_graph, inputs)\u001b[0m\n\u001b[1;32m    512\u001b[0m \u001b[38;5;28;01mif\u001b[39;00m has_torch_function_unary(\u001b[38;5;28mself\u001b[39m):\n\u001b[1;32m    513\u001b[0m     \u001b[38;5;28;01mreturn\u001b[39;00m handle_torch_function(\n\u001b[1;32m    514\u001b[0m         Tensor\u001b[38;5;241m.\u001b[39mbackward,\n\u001b[1;32m    515\u001b[0m         (\u001b[38;5;28mself\u001b[39m,),\n\u001b[0;32m   (...)\u001b[0m\n\u001b[1;32m    520\u001b[0m         inputs\u001b[38;5;241m=\u001b[39minputs,\n\u001b[1;32m    521\u001b[0m     )\n\u001b[0;32m--> 522\u001b[0m \u001b[43mtorch\u001b[49m\u001b[38;5;241;43m.\u001b[39;49m\u001b[43mautograd\u001b[49m\u001b[38;5;241;43m.\u001b[39;49m\u001b[43mbackward\u001b[49m\u001b[43m(\u001b[49m\n\u001b[1;32m    523\u001b[0m \u001b[43m    \u001b[49m\u001b[38;5;28;43mself\u001b[39;49m\u001b[43m,\u001b[49m\u001b[43m \u001b[49m\u001b[43mgradient\u001b[49m\u001b[43m,\u001b[49m\u001b[43m \u001b[49m\u001b[43mretain_graph\u001b[49m\u001b[43m,\u001b[49m\u001b[43m \u001b[49m\u001b[43mcreate_graph\u001b[49m\u001b[43m,\u001b[49m\u001b[43m \u001b[49m\u001b[43minputs\u001b[49m\u001b[38;5;241;43m=\u001b[39;49m\u001b[43minputs\u001b[49m\n\u001b[1;32m    524\u001b[0m \u001b[43m\u001b[49m\u001b[43m)\u001b[49m\n",
      "File \u001b[0;32m~/.pyenv/versions/3.12.2/lib/python3.12/site-packages/torch/autograd/__init__.py:266\u001b[0m, in \u001b[0;36mbackward\u001b[0;34m(tensors, grad_tensors, retain_graph, create_graph, grad_variables, inputs)\u001b[0m\n\u001b[1;32m    261\u001b[0m     retain_graph \u001b[38;5;241m=\u001b[39m create_graph\n\u001b[1;32m    263\u001b[0m \u001b[38;5;66;03m# The reason we repeat the same comment below is that\u001b[39;00m\n\u001b[1;32m    264\u001b[0m \u001b[38;5;66;03m# some Python versions print out the first line of a multi-line function\u001b[39;00m\n\u001b[1;32m    265\u001b[0m \u001b[38;5;66;03m# calls in the traceback and some print out the last line\u001b[39;00m\n\u001b[0;32m--> 266\u001b[0m \u001b[43mVariable\u001b[49m\u001b[38;5;241;43m.\u001b[39;49m\u001b[43m_execution_engine\u001b[49m\u001b[38;5;241;43m.\u001b[39;49m\u001b[43mrun_backward\u001b[49m\u001b[43m(\u001b[49m\u001b[43m  \u001b[49m\u001b[38;5;66;43;03m# Calls into the C++ engine to run the backward pass\u001b[39;49;00m\n\u001b[1;32m    267\u001b[0m \u001b[43m    \u001b[49m\u001b[43mtensors\u001b[49m\u001b[43m,\u001b[49m\n\u001b[1;32m    268\u001b[0m \u001b[43m    \u001b[49m\u001b[43mgrad_tensors_\u001b[49m\u001b[43m,\u001b[49m\n\u001b[1;32m    269\u001b[0m \u001b[43m    \u001b[49m\u001b[43mretain_graph\u001b[49m\u001b[43m,\u001b[49m\n\u001b[1;32m    270\u001b[0m \u001b[43m    \u001b[49m\u001b[43mcreate_graph\u001b[49m\u001b[43m,\u001b[49m\n\u001b[1;32m    271\u001b[0m \u001b[43m    \u001b[49m\u001b[43minputs\u001b[49m\u001b[43m,\u001b[49m\n\u001b[1;32m    272\u001b[0m \u001b[43m    \u001b[49m\u001b[43mallow_unreachable\u001b[49m\u001b[38;5;241;43m=\u001b[39;49m\u001b[38;5;28;43;01mTrue\u001b[39;49;00m\u001b[43m,\u001b[49m\n\u001b[1;32m    273\u001b[0m \u001b[43m    \u001b[49m\u001b[43maccumulate_grad\u001b[49m\u001b[38;5;241;43m=\u001b[39;49m\u001b[38;5;28;43;01mTrue\u001b[39;49;00m\u001b[43m,\u001b[49m\n\u001b[1;32m    274\u001b[0m \u001b[43m\u001b[49m\u001b[43m)\u001b[49m\n",
      "\u001b[0;31mKeyboardInterrupt\u001b[0m: "
     ]
    }
   ],
   "source": [
    "for epoch in range(epochs):\n",
    "    y_predict = model(X)\n",
    "    loss = criterion(y, y_predict)\n",
    "    optim.zero_grad()\n",
    "    loss.backward()\n",
    "    optim.step()\n",
    "    scheduler.step()\n",
    "    print(\"epoch {}, loss {}\".format(epoch, loss.item()))"
   ]
  },
  {
   "cell_type": "code",
   "execution_count": null,
   "id": "b54c8dda58822695",
   "metadata": {
    "collapsed": false
   },
   "outputs": [],
   "source": [
    "test = torch.tensor([0, 0], dtype=torch.float32)\n",
    "model(test)"
   ]
  },
  {
   "cell_type": "markdown",
   "id": "7b86baa1b8f26240",
   "metadata": {
    "collapsed": false
   },
   "source": [
    "# Question 5"
   ]
  },
  {
   "cell_type": "code",
   "execution_count": 7,
   "id": "35a5b0dec740fa97",
   "metadata": {
    "ExecuteTime": {
     "end_time": "2024-04-12T12:08:41.920872Z",
     "start_time": "2024-04-12T12:08:41.731314Z"
    },
    "collapsed": false
   },
   "outputs": [],
   "source": [
    "from torch.utils.data import Dataset\n",
    "import torch\n",
    "import os\n",
    "from torchvision.io import read_image\n",
    "from pathlib import Path\n",
    "from glob import glob\n",
    "import matplotlib.pyplot as plt\n",
    "\n",
    "\n",
    "class ClocksDataset(Dataset):\n",
    "    def __init__(self, data_dir: str, transform=None):\n",
    "        self.data_dir = data_dir\n",
    "        self.transform = transform\n",
    "\n",
    "    def __len__(self):\n",
    "        return len(glob(f\"{self.data_dir}/*.txt\"))\n",
    "\n",
    "    def __getitem__(self, item):\n",
    "        img_path = os.path.join(self.data_dir, f\"{str(item).zfill(4)}.png\")\n",
    "        label_path = os.path.join(self.data_dir, f\"{str(item).zfill(4)}.txt\")\n",
    "        image = read_image(img_path)\n",
    "        if self.transform:\n",
    "            image = self.transform(image)\n",
    "        label = Path(label_path).read_text()\n",
    "        hours, minutes = label.split(\":\")\n",
    "        return image, torch.tensor([int(hours), int(minutes)])"
   ]
  },
  {
   "cell_type": "code",
   "execution_count": 9,
   "id": "5da7730853c28e42",
   "metadata": {
    "ExecuteTime": {
     "end_time": "2024-04-12T12:09:05.496600Z",
     "start_time": "2024-04-12T12:09:05.348340Z"
    },
    "collapsed": false
   },
   "outputs": [
    {
     "data": {
      "text/plain": [
       "torch.Size([2])"
      ]
     },
     "execution_count": 9,
     "metadata": {},
     "output_type": "execute_result"
    },
    {
     "data": {
      "image/png": "[encoded data removed]",
      "text/plain": [
       "<Figure size 640x480 with 1 Axes>"
      ]
     },
     "metadata": {},
     "output_type": "display_data"
    }
   ],
   "source": [
    "dataset = ClocksDataset(\"train\")\n",
    "img, label = dataset[0]\n",
    "\n",
    "plt.imshow(img.permute(1, 2, 0))\n",
    "plt.title(label)"
   ]
  },
  {
   "cell_type": "code",
   "execution_count": null,
   "id": "ed3517eaf6e6870f",
   "metadata": {
    "collapsed": false
   },
   "outputs": [],
   "source": []
  },
  {
   "cell_type": "markdown",
   "id": "8c9e13f546708bf7",
   "metadata": {
    "collapsed": false
   },
   "source": [
    "# Question 6"
   ]
  }
 ],
 "metadata": {
  "kernelspec": {
   "display_name": "Python 3",
   "language": "python",
   "name": "python3"
  },
  "language_info": {
   "codemirror_mode": {
    "name": "ipython",
    "version": 2
   },
   "file_extension": ".py",
   "mimetype": "text/x-python",
   "name": "python",
   "nbconvert_exporter": "python",
   "pygments_lexer": "ipython2",
   "version": "2.7.6"
  }
 },
 "nbformat": 4,
 "nbformat_minor": 5
}
